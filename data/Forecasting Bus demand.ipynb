{
 "cells": [
  {
   "cell_type": "code",
   "id": "6234aee6",
   "metadata": {
    "jupyter": {
     "is_executing": true
    }
   },
   "source": [
    "pip install kagglehub"
   ],
   "outputs": [],
   "execution_count": null
  },
  {
   "cell_type": "code",
   "id": "329c9eff",
   "metadata": {},
   "source": [
    "import numpy as np\n",
    "import pandas as pd\n",
    "from matplotlib import pyplot as plt\n",
    "import seaborn as sns\n",
    "import warnings\n",
    "import datetime\n",
    "import itertools\n",
    "import lightgbm as lgb\n",
    "\n",
    "pd.set_option('display.max_columns', None)\n",
    "pd.set_option('display.max_rows', None)\n",
    "pd.set_option('display.width', 500)\n",
    "warnings.filterwarnings('ignore')\n",
    "\n",
    "from statsmodels.tsa.holtwinters  import SimpleExpSmoothing\n",
    "from statsmodels.tsa.holtwinters  import ExponentialSmoothing\n",
    "from statsmodels.tsa.arima.model import ARIMA\n",
    "from statsmodels.tsa.statespace.sarimax import SARIMAX\n",
    "from sklearn.metrics import mean_absolute_error"
   ],
   "outputs": [],
   "execution_count": null
  },
  {
   "cell_type": "code",
   "id": "d6cf0e18",
   "metadata": {},
   "source": [
    "import kagglehub\n",
    "\n",
    "# Download latest version\n",
    "path = kagglehub.dataset_download(\"serdargundogdu/municipality-bus-utilization\")\n",
    "\n",
    "print(\"Path to dataset files:\", path)"
   ],
   "outputs": [],
   "execution_count": null
  },
  {
   "cell_type": "code",
   "id": "d898db20",
   "metadata": {},
   "source": [
    "df = pd.read_csv(\"municipality_bus_utilization.csv\", parse_dates=['timestamp'])"
   ],
   "outputs": [],
   "execution_count": null
  },
  {
   "cell_type": "code",
   "id": "f77722bc",
   "metadata": {},
   "source": [
    "df.head(20)"
   ],
   "outputs": [],
   "execution_count": null
  },
  {
   "cell_type": "code",
   "id": "a9779b27",
   "metadata": {},
   "source": [
    "#df[numeric_columns].describe() \n",
    "\n",
    "#убрать большие значения \n",
    "#убрать минимальные значнения \n",
    "#выявлять границы по признакам \n",
    "#векторизация значений TF ATF \n",
    "# добавить фиктивные признаки \n",
    "# ОБъеденить дата фреймы \n"
   ],
   "outputs": [],
   "execution_count": null
  },
  {
   "cell_type": "code",
   "id": "91220e7a",
   "metadata": {},
   "source": [
    "df.shape"
   ],
   "outputs": [],
   "execution_count": null
  },
  {
   "cell_type": "code",
   "id": "01444270",
   "metadata": {},
   "source": [
    "def check_df(dataframe, head=5):\n",
    "    print(\"##################### Shape #####################\")\n",
    "    print(dataframe.shape)\n",
    "    print(\"##################### Types #####################\")\n",
    "    print(dataframe.dtypes)\n",
    "    print(\"##################### Head #####################\")\n",
    "    print(dataframe.head(head))\n",
    "    print(\"##################### Tail #####################\")\n",
    "    print(dataframe.tail(head))\n",
    "    print(\"##################### NA #####################\")\n",
    "    print(dataframe.isnull().sum())\n",
    "    print(\"##################### Quantiles #####################\")\n",
    "    print(dataframe.quantile([0, 0.05, 0.50, 0.95, 0.99, 1]).T)"
   ],
   "outputs": [],
   "execution_count": null
  },
  {
   "cell_type": "code",
   "id": "146e66d4",
   "metadata": {},
   "source": [
    "df[\"timestamp\"].min(), df[\"timestamp\"].max()"
   ],
   "outputs": [],
   "execution_count": null
  },
  {
   "cell_type": "code",
   "id": "7058f340",
   "metadata": {},
   "source": [
    "df.info()"
   ],
   "outputs": [],
   "execution_count": null
  },
  {
   "cell_type": "code",
   "id": "7061f630",
   "metadata": {},
   "source": [
    "check_df(df)"
   ],
   "outputs": [],
   "execution_count": null
  },
  {
   "cell_type": "code",
   "id": "ae560011",
   "metadata": {},
   "source": [
    "df['municipality_id'].value_counts()"
   ],
   "outputs": [],
   "execution_count": null
  },
  {
   "cell_type": "code",
   "id": "6b14c38e",
   "metadata": {},
   "source": [
    "df.describe().T"
   ],
   "outputs": [],
   "execution_count": null
  },
  {
   "cell_type": "code",
   "id": "99c29e0e",
   "metadata": {},
   "source": [
    "sns.set_style(\"whitegrid\")\n",
    "plt.figure(figsize = (8, 4))\n",
    "sns.barplot(x = df[\"municipality_id\"], y = df[\"total_capacity\"])\n",
    "plt.xlabel('Municipality')\n",
    "plt.ylabel('Total capacity')\n",
    "plt.title('Total capacity per municipalities')\n",
    "plt.show()"
   ],
   "outputs": [],
   "execution_count": null
  },
  {
   "cell_type": "code",
   "id": "5c02143c",
   "metadata": {},
   "source": [
    "print(\"-\"* 50)\n",
    "capacities = df[[\"municipality_id\", \"total_capacity\"]].drop_duplicates().sort_values(\"municipality_id\")\n",
    "for i in capacities.iterrows():\n",
    "    print(\"Total capacity of the municipality {} = {} ~ {}%\".format(\n",
    "        i[1][\"municipality_id\"], i[1][\"total_capacity\"], round((i[1][\"total_capacity\"]*100)/sum(capacities[\"total_capacity\"]), 2)))\n",
    "   # print(i, type(i))\n",
    "print(\"-\"*50)\n",
    "print(\"total capacity:\", sum(capacities[\"total_capacity\"]))"
   ],
   "outputs": [],
   "execution_count": null
  },
  {
   "cell_type": "code",
   "id": "be5f5c02",
   "metadata": {},
   "source": [
    "sns.set(style = 'whitegrid')\n",
    "sns.FacetGrid(df, hue = 'municipality_id', height=6).map(sns.distplot, 'usage').add_legend()\n",
    "plt.title('Distribution of Usages')\n",
    "plt.show()"
   ],
   "outputs": [],
   "execution_count": null
  },
  {
   "cell_type": "code",
   "id": "e0164665",
   "metadata": {},
   "source": [
    "df6 = df[df.municipality_id == 6]\n",
    "df6.head()"
   ],
   "outputs": [],
   "execution_count": null
  },
  {
   "cell_type": "code",
   "id": "7f417a37",
   "metadata": {},
   "source": [
    "sns.set(style = 'whitegrid')\n",
    "sns.FacetGrid(df6, hue = 'municipality_id', height=6).map(sns.distplot, 'usage').add_legend()\n",
    "plt.title('Distribution of Usages')\n",
    "plt.show()"
   ],
   "outputs": [],
   "execution_count": null
  },
  {
   "cell_type": "code",
   "id": "839f416f",
   "metadata": {},
   "source": [
    "plt.figure(figsize = (16, 4))\n",
    "for i in range(10):\n",
    "    plt.plot(df[df['municipality_id'] == i][['usage']].reset_index(drop=True), label=i)\n",
    "plt.legend(loc='lower right',bbox_to_anchor=(1, 0.25))\n",
    "plt.title('Usages in Time-series Format')\n",
    "plt.show()"
   ],
   "outputs": [],
   "execution_count": null
  },
  {
   "cell_type": "code",
   "id": "5d26e90a",
   "metadata": {},
   "source": [
    "plt.figure(figsize = (16, 4))\n",
    "plt.plot(df6[[\"timestamp\"]], df6[['usage']].reset_index(drop=True), label=6)\n",
    "plt.legend(loc='lower right',bbox_to_anchor=(1, 0.25))\n",
    "plt.title('Usages in Time-series Format')\n",
    "plt.show()"
   ],
   "outputs": [],
   "execution_count": null
  },
  {
   "cell_type": "code",
   "id": "c95c2a13",
   "metadata": {},
   "source": [
    "def create_date_features(df):\n",
    "    df['hour'] = df.timestamp.dt.hour\n",
    "    df['month'] = df.timestamp.dt.month\n",
    "    df['day_of_month'] = df.timestamp.dt.day\n",
    "    df['day_of_year'] = df.timestamp.dt.dayofyear\n",
    "    df['week_of_year'] = df.timestamp.dt.weekofyear\n",
    "    df['day_of_week'] = df.timestamp.dt.dayofweek\n",
    "    df['year'] = df.timestamp.dt.year\n",
    "    df[\"is_wknd\"] = df.timestamp.dt.weekday // 4\n",
    "    df['is_month_start'] = df.timestamp.dt.is_month_start.astype(int)\n",
    "    df['is_month_end'] = df.timestamp.dt.is_month_end.astype(int)\n",
    "    return df"
   ],
   "outputs": [],
   "execution_count": null
  },
  {
   "cell_type": "code",
   "id": "bbe8e726",
   "metadata": {},
   "source": [
    "df = create_date_features(df)"
   ],
   "outputs": [],
   "execution_count": null
  },
  {
   "cell_type": "code",
   "id": "690b462f",
   "metadata": {},
   "source": [
    "df.isnull().sum()"
   ],
   "outputs": [],
   "execution_count": null
  },
  {
   "cell_type": "code",
   "id": "22c095d3",
   "metadata": {},
   "source": [
    "df.groupby([\"municipality_id\",\"hour\"]).agg({\"usage\": [\"count\", \"max\"]})"
   ],
   "outputs": [],
   "execution_count": null
  },
  {
   "cell_type": "code",
   "id": "fc637ea7",
   "metadata": {},
   "source": [
    "df.groupby([\"week_of_year\",\"municipality_id\",]).agg({\"usage\": [\"count\", \"max\"]})"
   ],
   "outputs": [],
   "execution_count": null
  },
  {
   "cell_type": "code",
   "id": "846eb3c4",
   "metadata": {
    "scrolled": true
   },
   "source": [
    "df.head()"
   ],
   "outputs": [],
   "execution_count": null
  },
  {
   "cell_type": "code",
   "id": "8ca7a8f6",
   "metadata": {},
   "source": [
    "df_resampled = pd.DataFrame()"
   ],
   "outputs": [],
   "execution_count": null
  },
  {
   "cell_type": "code",
   "id": "813be80b",
   "metadata": {},
   "source": [
    "df[\"timestamp\"] = df[\"timestamp\"].astype(str).apply(lambda x: x[:-6]).astype(\"datetime64\")\n",
    "df_resampled = df.groupby([\"timestamp\",\"municipality_id\"]).agg({\"usage\": \"max\"}).reset_index()\n",
    "df_resampled.drop_duplicates([\"timestamp\",\"municipality_id\"],inplace=True)"
   ],
   "outputs": [],
   "execution_count": null
  },
  {
   "cell_type": "code",
   "id": "24a22173",
   "metadata": {},
   "source": [
    "df_resampled.head()"
   ],
   "outputs": [],
   "execution_count": null
  },
  {
   "cell_type": "code",
   "id": "4144dfef",
   "metadata": {},
   "source": [
    "dfs={}\n",
    "for i in range(10):\n",
    "    dfs[i]= pd.DataFrame(data=df_resampled[df_resampled.municipality_id==i], columns=[\"timestamp\",\"usage\"]).set_index(\"timestamp\")"
   ],
   "outputs": [],
   "execution_count": null
  },
  {
   "cell_type": "code",
   "id": "ba3e9841",
   "metadata": {},
   "source": [
    "dfs[6].shape"
   ],
   "outputs": [],
   "execution_count": null
  },
  {
   "cell_type": "code",
   "id": "d12fbb43",
   "metadata": {},
   "source": [
    "type(dfs[6])"
   ],
   "outputs": [],
   "execution_count": null
  },
  {
   "cell_type": "code",
   "id": "e8788a43",
   "metadata": {},
   "source": [
    "trains={}\n",
    "tests={}\n",
    "for i in range(10):\n",
    "    trains[i] = dfs[i][:\"2017-08-04 16:00:00\"]\n",
    "    tests[i] = dfs[i][\"2017-08-05 07:00:00\":]\n",
    "    print (f\"train {i} size:  \", len(trains[i]))\n",
    "    print (f\"test {i} size: \", len(tests[i]))"
   ],
   "outputs": [],
   "execution_count": null
  },
  {
   "cell_type": "code",
   "id": "1f060cf1",
   "metadata": {},
   "source": [
    "trains[6].head()"
   ],
   "outputs": [],
   "execution_count": null
  },
  {
   "cell_type": "code",
   "id": "079a2a9c",
   "metadata": {},
   "source": [
    "tests[6].head()"
   ],
   "outputs": [],
   "execution_count": null
  },
  {
   "cell_type": "markdown",
   "id": "851c4844",
   "metadata": {},
   "source": [
    "Single Exponential Smoothing"
   ]
  },
  {
   "cell_type": "code",
   "id": "0e0cf5ec",
   "metadata": {},
   "source": [
    "def ses_optimizer(train,test, alphas, step=142):\n",
    "    best_alpha, best_mae = None, float(\"inf\")\n",
    "    for alpha in alphas:\n",
    "        ses_model = SimpleExpSmoothing(train).fit(smoothing_level=alpha)\n",
    "        y_pred = ses_model.forecast(step)\n",
    "        mae = mean_absolute_error(test, y_pred)\n",
    "        if mae < best_mae:\n",
    "            best_alpha, best_mae = alpha, mae\n",
    "        print(\"alpha:\", round(alpha, 2), \"mae:\", round(mae, 4))\n",
    "    print(\"best_alpha:\", round(best_alpha, 2), \"best_mae:\", round(best_mae, 4))\n",
    "    return best_alpha, best_mae"
   ],
   "outputs": [],
   "execution_count": null
  },
  {
   "cell_type": "code",
   "id": "1a834707",
   "metadata": {},
   "source": [
    "alphas = np.arange(0.01, 1, 0.10)\n",
    "best_alpha, best_mae = ses_optimizer(trains[6],tests[6], alphas, step=142)"
   ],
   "outputs": [],
   "execution_count": null
  },
  {
   "cell_type": "code",
   "id": "2c87be1e",
   "metadata": {},
   "source": [
    "ses_model = SimpleExpSmoothing(trains[6]).fit(smoothing_level=best_alpha)\n",
    "y_pred = ses_model.forecast(142)"
   ],
   "outputs": [],
   "execution_count": null
  },
  {
   "cell_type": "code",
   "id": "73827ff4",
   "metadata": {},
   "source": [
    "tests[6].head()"
   ],
   "outputs": [],
   "execution_count": null
  },
  {
   "cell_type": "code",
   "id": "84804259",
   "metadata": {},
   "source": [
    "y_pred.reset_index(drop=True,inplace=True)\n",
    "y_pred=pd.DataFrame(y_pred, columns=[\"usage\"])\n",
    "y_pred = y_pred.merge(tests[6].reset_index()[\"timestamp\"], left_index=True, right_index=True).set_index(\"timestamp\")"
   ],
   "outputs": [],
   "execution_count": null
  },
  {
   "cell_type": "code",
   "id": "43dab19f",
   "metadata": {},
   "source": [
    "y_pred[\"usage\"].head()"
   ],
   "outputs": [],
   "execution_count": null
  },
  {
   "cell_type": "code",
   "id": "2ea4a1ed",
   "metadata": {},
   "source": [
    "y_pred.index"
   ],
   "outputs": [],
   "execution_count": null
  },
  {
   "cell_type": "code",
   "id": "1d908c2c",
   "metadata": {},
   "source": [
    "trains[6][\"usage\"].head()"
   ],
   "outputs": [],
   "execution_count": null
  },
  {
   "cell_type": "code",
   "id": "359d4c35",
   "metadata": {},
   "source": [
    "trains[6][\"usage\"].index"
   ],
   "outputs": [],
   "execution_count": null
  },
  {
   "cell_type": "code",
   "id": "723b8114",
   "metadata": {},
   "source": [
    "tests[6][\"usage\"].head()"
   ],
   "outputs": [],
   "execution_count": null
  },
  {
   "cell_type": "code",
   "id": "d181b60f",
   "metadata": {},
   "source": [
    "tests[6][\"usage\"].index"
   ],
   "outputs": [],
   "execution_count": null
  },
  {
   "cell_type": "markdown",
   "id": "f954788d",
   "metadata": {},
   "source": [
    "Double Exponential Smoothing "
   ]
  },
  {
   "cell_type": "code",
   "id": "db2dbb0a",
   "metadata": {},
   "source": [
    "def plot_prediction(i,y_pred, label):\n",
    "    plt.figure(figsize=(16, 4))\n",
    "    trains[i][\"usage\"].plot(legend=True, label=f\"TRAIN {i}\")\n",
    "    tests[i][\"usage\"].plot(legend=True, label=f\"TEST {i}\")\n",
    "    y_pred[\"usage\"].plot(legend=True, label=f\"PREDICTION {i}\")\n",
    "    plt.xlim([datetime.date(2017,6,4), datetime.date(2017,8,20)])\n",
    "    plt.title(\"Train, Test and Predicted Test Using \"+label)\n",
    "    plt.show()"
   ],
   "outputs": [],
   "execution_count": null
  },
  {
   "cell_type": "code",
   "id": "d5a0ad16",
   "metadata": {},
   "source": [
    "plot_prediction(6, y_pred, \"Single Exponential Smoothing\")"
   ],
   "outputs": [],
   "execution_count": null
  },
  {
   "cell_type": "code",
   "id": "b2305005",
   "metadata": {},
   "source": [
    "def des_optimizer(train,test, alphas, betas, step=142):\n",
    "    best_alpha, best_beta, best_mae = None, None, float(\"inf\")\n",
    "    for alpha in alphas:\n",
    "        for beta in betas:\n",
    "            des_model = ExponentialSmoothing(train, trend=\"add\").fit(smoothing_level=alpha, smoothing_slope=beta)\n",
    "            y_pred = des_model.forecast(step)\n",
    "            mae = mean_absolute_error(test, y_pred)\n",
    "            if mae < best_mae:\n",
    "                best_alpha, best_beta, best_mae = alpha, beta, mae\n",
    "            print(\"alpha:\", round(alpha, 2), \"beta:\", round(beta, 2), \"mae:\", round(mae, 4))\n",
    "    print(\"best_alpha:\", round(best_alpha, 2), \"best_beta:\", round(best_beta, 2), \"best_mae:\", round(best_mae, 4))\n",
    "    return best_alpha, best_beta, best_mae"
   ],
   "outputs": [],
   "execution_count": null
  },
  {
   "cell_type": "code",
   "id": "3691c45b",
   "metadata": {},
   "source": [
    "alphas = np.arange(0.01, 1, 0.10)\n",
    "betas = np.arange(0.01, 1, 0.10)\n",
    "best_alpha, best_beta, best_mae = des_optimizer(trains[6],tests[6], alphas, betas, step=142)\n"
   ],
   "outputs": [],
   "execution_count": null
  },
  {
   "cell_type": "code",
   "id": "e1afd2e3",
   "metadata": {},
   "source": [
    "alphas = np.arange(0.01, 1, 0.10)\n",
    "betas = np.arange(0.01, 1, 0.10)\n",
    "\n",
    "best_alpha, best_beta, best_mae = des_optimizer(trains[6],tests[6], alphas, betas, step=142)"
   ],
   "outputs": [],
   "execution_count": null
  },
  {
   "cell_type": "code",
   "id": "1fa1d3f7",
   "metadata": {},
   "source": [
    "des_model = ExponentialSmoothing(trains[6], trend=\"add\").fit(smoothing_level=best_alpha,\n",
    "                                                         smoothing_slope=best_beta)\n",
    "y_pred = des_model.forecast(142)"
   ],
   "outputs": [],
   "execution_count": null
  },
  {
   "cell_type": "code",
   "id": "50fc2240",
   "metadata": {},
   "source": [
    "y_pred.reset_index(drop=True,inplace=True)\n",
    "y_pred=pd.DataFrame(y_pred, columns=[\"usage\"])\n",
    "y_pred = y_pred.merge(tests[6].reset_index()[\"timestamp\"], left_index=True, right_index=True).set_index(\"timestamp\")"
   ],
   "outputs": [],
   "execution_count": null
  },
  {
   "cell_type": "code",
   "id": "67502153",
   "metadata": {},
   "source": [
    "y_pred[\"usage\"].head()"
   ],
   "outputs": [],
   "execution_count": null
  },
  {
   "cell_type": "code",
   "id": "5ac78581",
   "metadata": {},
   "source": [
    "plot_prediction(6, y_pred, \"Double Exponential Smoothing\")"
   ],
   "outputs": [],
   "execution_count": null
  },
  {
   "cell_type": "markdown",
   "id": "d08d8fcd",
   "metadata": {},
   "source": [
    "Tripple Exponential Smoothing"
   ]
  },
  {
   "cell_type": "code",
   "id": "e4701df2",
   "metadata": {},
   "source": [
    "def tes_optimizer(train,test, abg, step=142):\n",
    "    best_alpha, best_beta, best_gamma, best_mae = None, None, None, float(\"inf\")\n",
    "    for comb in abg:\n",
    "        tes_model = ExponentialSmoothing(train, trend=\"add\", seasonal=\"add\", seasonal_periods=10).\\\n",
    "            fit(smoothing_level=comb[0], smoothing_slope=comb[1], smoothing_seasonal=comb[2])\n",
    "        y_pred = tes_model.forecast(step)\n",
    "        mae = mean_absolute_error(test, y_pred)\n",
    "        if mae < best_mae:\n",
    "            best_alpha, best_beta, best_gamma, best_mae = comb[0], comb[1], comb[2], mae\n",
    "        print([round(comb[0], 2), round(comb[1], 2), round(comb[2], 2), round(mae, 2)])\n",
    "\n",
    "    print(\"best_alpha:\", round(best_alpha, 2), \"best_beta:\", round(best_beta, 2), \"best_gamma:\", round(best_gamma, 2),\n",
    "          \"best_mae:\", round(best_mae, 4))\n",
    "\n",
    "    return best_alpha, best_beta, best_gamma, best_mae"
   ],
   "outputs": [],
   "execution_count": null
  },
  {
   "cell_type": "code",
   "id": "61c15c32",
   "metadata": {},
   "source": [
    "alphas = betas = gammas = np.arange(0.01, 1, 0.20)\n",
    "abg = list(itertools.product(alphas, betas, gammas))\n",
    "\n",
    "best_alpha, best_beta, best_gamma, best_mae = tes_optimizer(trains[6], tests[6], abg, step=142)"
   ],
   "outputs": [],
   "execution_count": null
  },
  {
   "cell_type": "code",
   "id": "f284e0d0",
   "metadata": {},
   "source": [
    "y_pred.head()"
   ],
   "outputs": [],
   "execution_count": null
  },
  {
   "cell_type": "code",
   "id": "55f5376b",
   "metadata": {},
   "source": [
    "y_pred.reset_index(drop=True,inplace=True)\n",
    "y_pred=pd.DataFrame(y_pred, columns=[\"usage\"])\n",
    "y_pred = y_pred.merge(tests[6].reset_index()[\"timestamp\"], left_index=True, right_index=True).set_index(\"timestamp\")"
   ],
   "outputs": [],
   "execution_count": null
  },
  {
   "cell_type": "code",
   "id": "8eab090b",
   "metadata": {},
   "source": [
    "y_pred[\"usage\"].head()"
   ],
   "outputs": [],
   "execution_count": null
  },
  {
   "cell_type": "code",
   "id": "17a2306f",
   "metadata": {},
   "source": [
    "plot_prediction(6, y_pred, \"Triple Exponential Smoothing ADD\")"
   ],
   "outputs": [],
   "execution_count": null
  },
  {
   "cell_type": "markdown",
   "id": "e7995b0f",
   "metadata": {},
   "source": [
    "SARIMA"
   ]
  },
  {
   "cell_type": "code",
   "id": "d2ac392e",
   "metadata": {},
   "source": [
    "p = d = q = range(0, 2)\n",
    "pdq = list(itertools.product(p, d, q))\n",
    "seasonal_pdq = [(x[0], x[1], x[2], 4) for x in list(itertools.product(p, d, q))]"
   ],
   "outputs": [],
   "execution_count": null
  },
  {
   "cell_type": "code",
   "id": "438ca0af",
   "metadata": {},
   "source": [
    "def sarima_optimizer_aic(train, pdq, seasonal_pdq):\n",
    "    best_aic, best_order, best_seasonal_order = float(\"inf\"), float(\"inf\"), None\n",
    "    for param in pdq:\n",
    "        for param_seasonal in seasonal_pdq:\n",
    "            try:\n",
    "                sarimax_model = SARIMAX(train, order=param, seasonal_order=param_seasonal)\n",
    "                results = sarimax_model.fit(disp=0)\n",
    "                aic = results.aic\n",
    "                if aic < best_aic:\n",
    "                    best_aic, best_order, best_seasonal_order = aic, param, param_seasonal\n",
    "                print('SARIMA{}x{}4 - AIC:{}'.format(param, param_seasonal, aic))\n",
    "            except:\n",
    "                continue\n",
    "    print('SARIMA{}x{}4 - AIC:{}'.format(best_order, best_seasonal_order, best_aic))\n",
    "    return best_order, best_seasonal_order"
   ],
   "outputs": [],
   "execution_count": null
  },
  {
   "cell_type": "code",
   "id": "95146a0e",
   "metadata": {},
   "source": [
    "best_order, best_seasonal_order = sarima_optimizer_aic(trains[6], pdq, seasonal_pdq)"
   ],
   "outputs": [],
   "execution_count": null
  },
  {
   "cell_type": "code",
   "id": "4c0e429e",
   "metadata": {},
   "source": [
    "model = SARIMAX(trains[6], order=best_order, seasonal_order=best_seasonal_order)\n",
    "sarima_final_model = model.fit(disp=0)\n",
    "y_pred_test = sarima_final_model.get_forecast(steps=142)\n",
    "\n",
    "y_pred = y_pred_test.predicted_mean\n",
    "mean_absolute_error(tests[6], y_pred)"
   ],
   "outputs": [],
   "execution_count": null
  },
  {
   "cell_type": "code",
   "id": "0f3feedf",
   "metadata": {},
   "source": [
    "#Random NOISE \n",
    "def random_noise(dataframe):\n",
    "    return np.random.normal(scale=1.6, size=(len(dataframe),))"
   ],
   "outputs": [],
   "execution_count": null
  },
  {
   "cell_type": "code",
   "id": "e4d21f41",
   "metadata": {},
   "source": [
    "df.head()"
   ],
   "outputs": [],
   "execution_count": null
  },
  {
   "cell_type": "code",
   "id": "587074d0",
   "metadata": {},
   "source": [
    "df.sort_values(by=[\"municipality_id\", \"total_capacity\",\"timestamp\"], axis=0, inplace=True)"
   ],
   "outputs": [],
   "execution_count": null
  },
  {
   "cell_type": "code",
   "id": "fdb517fc",
   "metadata": {},
   "source": [
    "df.head()"
   ],
   "outputs": [],
   "execution_count": null
  },
  {
   "cell_type": "code",
   "id": "6854417b",
   "metadata": {},
   "source": [
    "pd.DataFrame({\"usage\": df[\"usage\"].values[0:10],\n",
    "              \"lag1\": df[\"usage\"].shift(1).values[0:10],\n",
    "              \"lag2\": df[\"usage\"].shift(2).values[0:10],\n",
    "              \"lag3\": df[\"usage\"].shift(3).values[0:10],\n",
    "              \"lag4\": df[\"usage\"].shift(4).values[0:10]})\n"
   ],
   "outputs": [],
   "execution_count": null
  },
  {
   "cell_type": "code",
   "id": "86d7547b",
   "metadata": {},
   "source": [
    "df.groupby([\"municipality_id\",\"total_capacity\"])[\"usage\"].head()"
   ],
   "outputs": [],
   "execution_count": null
  },
  {
   "cell_type": "code",
   "id": "d7b2957e",
   "metadata": {},
   "source": [
    "df.groupby([\"municipality_id\",\"total_capacity\"])[\"usage\"].transform(lambda x: x.shift(1))"
   ],
   "outputs": [],
   "execution_count": null
  },
  {
   "cell_type": "code",
   "id": "658d338b",
   "metadata": {},
   "source": [
    "def lag_features(dataframe, lags):\n",
    "    for lag in lags:\n",
    "        dataframe['usage_lag_' + str(lag)] = dataframe.groupby([\"municipality_id\", \"total_capacity\"])['usage'].transform(\n",
    "            lambda x: x.shift(lag)) + random_noise(dataframe)\n",
    "    return dataframe"
   ],
   "outputs": [],
   "execution_count": null
  },
  {
   "cell_type": "code",
   "id": "da5ce4f6",
   "metadata": {},
   "source": [
    "df = lag_features(df, [91, 98, 105, 112, 119, 126, 182, 364, 546, 728])"
   ],
   "outputs": [],
   "execution_count": null
  },
  {
   "cell_type": "code",
   "id": "46297fe7",
   "metadata": {},
   "source": [
    "check_df(df)"
   ],
   "outputs": [],
   "execution_count": null
  },
  {
   "cell_type": "markdown",
   "id": "39aea3c3",
   "metadata": {},
   "source": [
    "ROLLING MEAN FEATURES "
   ]
  },
  {
   "cell_type": "code",
   "id": "353f7f5b",
   "metadata": {},
   "source": [
    "pd.DataFrame({\"usage\": df[\"usage\"].values[0:10],\n",
    "              \"roll2\": df[\"usage\"].rolling(window=2).mean().values[0:10],\n",
    "              \"roll3\": df[\"usage\"].rolling(window=3).mean().values[0:10],\n",
    "              \"roll5\": df[\"usage\"].rolling(window=5).mean().values[0:10]})\n",
    "\n",
    "pd.DataFrame({\"usage\": df[\"usage\"].values[0:10],\n",
    "              \"roll2\": df[\"usage\"].shift(1).rolling(window=2).mean().values[0:10],\n",
    "              \"roll3\": df[\"usage\"].shift(1).rolling(window=3).mean().values[0:10],\n",
    "              \"roll5\": df[\"usage\"].shift(1).rolling(window=5).mean().values[0:10]})"
   ],
   "outputs": [],
   "execution_count": null
  },
  {
   "cell_type": "code",
   "id": "c7324ad6",
   "metadata": {},
   "source": [
    "def roll_mean_features(dataframe, windows):\n",
    "    for window in windows:\n",
    "        dataframe['usage_roll_mean_' + str(window)] = dataframe.groupby([\"municipality_id\", \"total_capacity\"])['usage']. \\\n",
    "                                                          transform(\n",
    "            lambda x: x.shift(1).rolling(window=window, min_periods=10, win_type=\"triang\").mean()) + random_noise(\n",
    "            dataframe)\n",
    "    return dataframe"
   ],
   "outputs": [],
   "execution_count": null
  },
  {
   "cell_type": "code",
   "id": "aff8e7fc",
   "metadata": {},
   "source": [
    "df = roll_mean_features(df, [365, 546])"
   ],
   "outputs": [],
   "execution_count": null
  },
  {
   "cell_type": "code",
   "id": "9c3b10bf",
   "metadata": {},
   "source": [
    "df.head()"
   ],
   "outputs": [],
   "execution_count": null
  },
  {
   "cell_type": "markdown",
   "id": "fe259daf",
   "metadata": {},
   "source": [
    "Exponentially Weighted MEan Features "
   ]
  },
  {
   "cell_type": "code",
   "id": "7f457e02",
   "metadata": {},
   "source": [
    "pd.DataFrame({\"usage\": df[\"usage\"].values[0:10],\n",
    "              \"roll2\": df[\"usage\"].shift(1).rolling(window=2).mean().values[0:10],\n",
    "              \"ewm099\": df[\"usage\"].shift(1).ewm(alpha=0.99).mean().values[0:10],\n",
    "              \"ewm095\": df[\"usage\"].shift(1).ewm(alpha=0.95).mean().values[0:10],\n",
    "              \"ewm07\": df[\"usage\"].shift(1).ewm(alpha=0.7).mean().values[0:10],\n",
    "              \"ewm02\": df[\"usage\"].shift(1).ewm(alpha=0.1).mean().values[0:10]})"
   ],
   "outputs": [],
   "execution_count": null
  },
  {
   "cell_type": "code",
   "id": "5615f311",
   "metadata": {},
   "source": [
    "def ewm_features(dataframe, alphas, lags):\n",
    "    for alpha in alphas:\n",
    "        for lag in lags:\n",
    "            dataframe['usage_ewm_alpha_' + str(alpha).replace(\".\", \"\") + \"_lag_\" + str(lag)] = \\\n",
    "                dataframe.groupby([\"municipality_id\", \"total_capacity\"])['usage'].transform(lambda x: x.shift(lag).ewm(alpha=alpha).mean())\n",
    "    return dataframe"
   ],
   "outputs": [],
   "execution_count": null
  },
  {
   "cell_type": "code",
   "id": "80b6ce29",
   "metadata": {},
   "source": [
    "alphas = [0.95, 0.9, 0.8, 0.7, 0.5]\n",
    "lags = [91, 98, 105, 112, 180, 270, 365, 546, 728]\n",
    "\n",
    "df = ewm_features(df, alphas, lags)\n",
    "check_df(df)"
   ],
   "outputs": [],
   "execution_count": null
  },
  {
   "cell_type": "markdown",
   "id": "525c3823",
   "metadata": {},
   "source": [
    "One-Hot Encoding "
   ]
  },
  {
   "cell_type": "code",
   "id": "c60fa552",
   "metadata": {},
   "source": [
    "df = pd.get_dummies(df, columns=['municipality_id', 'total_capacity', 'day_of_week', 'hour'])\n",
    "\n",
    "\n",
    "check_df(df)"
   ],
   "outputs": [],
   "execution_count": null
  },
  {
   "cell_type": "code",
   "id": "bb65643b",
   "metadata": {},
   "source": [
    "df.head()"
   ],
   "outputs": [],
   "execution_count": null
  },
  {
   "cell_type": "code",
   "id": "0d524083",
   "metadata": {},
   "source": [
    "train = df.loc[(df[\"timestamp\"] <\"2017-08-05\"),:]\n",
    "val = df.loc[(df[\"timestamp\"] >=\"2017-08-05\"),:]"
   ],
   "outputs": [],
   "execution_count": null
  },
  {
   "cell_type": "code",
   "id": "72171af2",
   "metadata": {},
   "source": [
    "cols = [col for col in train.columns if col not in [\"timestamp\", \"usage\",\"year\"]]"
   ],
   "outputs": [],
   "execution_count": null
  },
  {
   "cell_type": "code",
   "id": "7eab293b",
   "metadata": {},
   "source": [
    "Y_train = train[\"usage\"]\n",
    "X_train = train[cols]"
   ],
   "outputs": [],
   "execution_count": null
  },
  {
   "cell_type": "code",
   "id": "573a05f7",
   "metadata": {},
   "source": [
    "Y_val = val['usage']\n",
    "X_val = val[cols]"
   ],
   "outputs": [],
   "execution_count": null
  },
  {
   "cell_type": "code",
   "id": "8d36e435",
   "metadata": {},
   "source": [
    "Y_train.shape, X_train.shape, Y_val.shape, X_val.shape"
   ],
   "outputs": [],
   "execution_count": null
  },
  {
   "cell_type": "code",
   "id": "95c40f75",
   "metadata": {},
   "source": [
    "#pip install lightgbm"
   ],
   "outputs": [],
   "execution_count": null
  },
  {
   "cell_type": "code",
   "id": "3acf2add",
   "metadata": {},
   "source": [
    "import lightgbm as lgb\n",
    "lgb_params = {\n",
    "    'num_leaves': 10,\n",
    "    'learning_rate': 0.02,\n",
    "    'feature_fraction': 0.8,\n",
    "    'max_depth': 5,\n",
    "    'verbose': 0,\n",
    "    'num_boost_round': 1000,\n",
    "    'early_stopping_rounds': 200,\n",
    "    'nthread': -1\n",
    "}"
   ],
   "outputs": [],
   "execution_count": null
  },
  {
   "cell_type": "code",
   "id": "aa3485fc",
   "metadata": {},
   "source": [
    "lgbtrain = lgb.Dataset(data=X_train, label=Y_train, feature_name=cols)"
   ],
   "outputs": [],
   "execution_count": null
  },
  {
   "cell_type": "code",
   "id": "5cc95597",
   "metadata": {},
   "source": [
    "lgbval = lgb.Dataset(data=X_val, label=Y_val, reference=lgbtrain, feature_name=cols)"
   ],
   "outputs": [],
   "execution_count": null
  },
  {
   "cell_type": "code",
   "id": "0fcbe4c9",
   "metadata": {},
   "source": [
    "model = lgb.train(lgb_params, lgbtrain,\n",
    "                  valid_sets=[lgbtrain, lgbval],\n",
    "                  num_boost_round=lgb_params['num_boost_round'],\n",
    "                  early_stopping_rounds=lgb_params['early_stopping_rounds'],\n",
    "                  verbose_eval=100)"
   ],
   "outputs": [],
   "execution_count": null
  },
  {
   "cell_type": "code",
   "id": "91bc8051",
   "metadata": {},
   "source": [
    "print(lgb.__version__)"
   ],
   "outputs": [],
   "execution_count": null
  },
  {
   "cell_type": "code",
   "id": "7418955a",
   "metadata": {},
   "source": [
    "#import lightgbm as lgb "
   ],
   "outputs": [],
   "execution_count": null
  },
  {
   "cell_type": "code",
   "id": "e9870bde",
   "metadata": {},
   "source": [
    "#pip install --upgrade lightgbm"
   ],
   "outputs": [],
   "execution_count": null
  },
  {
   "cell_type": "code",
   "id": "7f83c286",
   "metadata": {},
   "source": [
    "model = lgb.train(params, train_data, valid_sets=[valid_data])"
   ],
   "outputs": [],
   "execution_count": null
  }
 ],
 "metadata": {
  "kernelspec": {
   "display_name": "Python 3 (ipykernel)",
   "language": "python",
   "name": "python3"
  },
  "language_info": {
   "codemirror_mode": {
    "name": "ipython",
    "version": 3
   },
   "file_extension": ".py",
   "mimetype": "text/x-python",
   "name": "python",
   "nbconvert_exporter": "python",
   "pygments_lexer": "ipython3",
   "version": "3.11.4"
  }
 },
 "nbformat": 4,
 "nbformat_minor": 5
}
